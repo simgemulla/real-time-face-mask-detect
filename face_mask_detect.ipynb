{
 "cells": [
  {
   "cell_type": "code",
   "execution_count": 1,
   "id": "7a425e1a",
   "metadata": {
    "scrolled": true
   },
   "outputs": [],
   "source": [
    "from tensorflow.keras.models import Sequential\n",
    "from tensorflow.keras.layers import Conv2D, MaxPooling2D, Flatten, Dropout, Dense # review\n"
   ]
  },
  {
   "cell_type": "code",
   "execution_count": 2,
   "id": "a212aee9",
   "metadata": {},
   "outputs": [],
   "source": [
    "cnn = Sequential([Conv2D(filters=100, kernel_size = (3,3),\n",
    "                    activation = 'relu'),\n",
    "                    MaxPooling2D(pool_size = (2,2)),\n",
    "                    Conv2D(filters = 100, kernel_size = (3,3),\n",
    "                    activation = 'relu'),\n",
    "                    MaxPooling2D(pool_size = (2,2)),\n",
    "                    Flatten(),\n",
    "                    Dropout(0.5),\n",
    "                    Dense(50),\n",
    "                    Dense(35),\n",
    "                    Dense(2) ])\n",
    "\n",
    "cnn.compile(optimizer = 'adam', loss = 'binary_crossentropy', metrics = ['acc'])"
   ]
  },
  {
   "cell_type": "code",
   "execution_count": null,
   "id": "ed9af139",
   "metadata": {},
   "outputs": [],
   "source": []
  }
 ],
 "metadata": {
  "kernelspec": {
   "display_name": "Python 3 (ipykernel)",
   "language": "python",
   "name": "python3"
  },
  "language_info": {
   "codemirror_mode": {
    "name": "ipython",
    "version": 3
   },
   "file_extension": ".py",
   "mimetype": "text/x-python",
   "name": "python",
   "nbconvert_exporter": "python",
   "pygments_lexer": "ipython3",
   "version": "3.7.11"
  }
 },
 "nbformat": 4,
 "nbformat_minor": 5
}
