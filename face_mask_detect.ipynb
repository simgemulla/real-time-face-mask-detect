{
 "cells": [
  {
   "cell_type": "code",
   "execution_count": 5,
   "id": "34b403a6",
   "metadata": {},
   "outputs": [
    {
     "name": "stdout",
     "output_type": "stream",
     "text": [
      "Collecting opencv-contrib-python\n",
      "  Downloading opencv_contrib_python-4.5.4.58-cp37-cp37m-macosx_10_15_x86_64.whl (54.5 MB)\n",
      "\u001b[K     |████████████████████████████████| 54.5 MB 647 kB/s eta 0:00:01\n",
      "\u001b[?25hRequirement already satisfied: numpy>=1.14.5 in /Users/simge/opt/anaconda3/envs/tf/lib/python3.7/site-packages (from opencv-contrib-python) (1.21.2)\n",
      "Installing collected packages: opencv-contrib-python\n",
      "Successfully installed opencv-contrib-python-4.5.4.58\n",
      "Note: you may need to restart the kernel to use updated packages.\n"
     ]
    }
   ],
   "source": [
    " pip install opencv-contrib-python --upgrade"
   ]
  },
  {
   "cell_type": "code",
   "execution_count": 1,
   "id": "7a425e1a",
   "metadata": {
    "scrolled": true
   },
   "outputs": [],
   "source": [
    "from tensorflow.keras.models import Sequential\n",
    "from tensorflow.keras.layers import Conv2D, MaxPooling2D, Flatten, Dropout, Dense # review\n"
   ]
  },
  {
   "cell_type": "code",
   "execution_count": 2,
   "id": "a212aee9",
   "metadata": {},
   "outputs": [],
   "source": [
    "cnn = Sequential([Conv2D(filters=100, kernel_size = (3,3),\n",
    "                    activation = 'relu'),\n",
    "                    MaxPooling2D(pool_size = (2,2)),\n",
    "                    Conv2D(filters = 100, kernel_size = (3,3),\n",
    "                    activation = 'relu'),\n",
    "                    MaxPooling2D(pool_size = (2,2)),\n",
    "                    Flatten(),\n",
    "                    Dropout(0.5),\n",
    "                    Dense(50),\n",
    "                    Dense(35),\n",
    "                    Dense(2) ])\n",
    "\n",
    "cnn.compile(optimizer = 'adam', loss = 'binary_crossentropy', metrics = ['acc'])"
   ]
  },
  {
   "cell_type": "code",
   "execution_count": 3,
   "id": "fee1a01c",
   "metadata": {},
   "outputs": [],
   "source": [
    "import cv2\n",
    "import numpy as np\n"
   ]
  },
  {
   "cell_type": "code",
   "execution_count": 4,
   "id": "70b44e78",
   "metadata": {},
   "outputs": [
    {
     "name": "stderr",
     "output_type": "stream",
     "text": [
      "2021-11-10 12:44:44.614642: I tensorflow/core/platform/cpu_feature_guard.cc:145] This TensorFlow binary is optimized with Intel(R) MKL-DNN to use the following CPU instructions in performance critical operations:  SSE4.1 SSE4.2\n",
      "To enable them in non-MKL-DNN operations, rebuild TensorFlow with the appropriate compiler flags.\n",
      "2021-11-10 12:44:44.615128: I tensorflow/core/common_runtime/process_util.cc:115] Creating new thread pool with default inter op setting: 8. Tune using inter_op_parallelism_threads for best performance.\n"
     ]
    }
   ],
   "source": [
    "\n",
    "labels_dict = {0: 'No mask', 1: 'Mask'}\n",
    "color_dict = {0: (0,0,255), 1: (0,255,0)}\n",
    "imgsize = 4\n",
    "camera = cv2.VideoCapture(0) # turn on the camera\n",
    "\n",
    "#identify the front face \n",
    "\n",
    "classifier = cv2.CascadeClassifier(cv2.data.haarcascades + 'haarcascade_frontalface_default.xml')\n",
    "#classifier = cv2.CascadeClassifier('haarcascade_frontalface_default.xml')\n",
    "\n",
    "\n",
    "while True:\n",
    "    (rval, im) = camera.read()\n",
    "    im = cv2.flip(im,1,1) #mirror the image?\n",
    "    imgs = cv2.resize(im, (im.shape[1] // imgsize, im.shape[0] // imgsize))\n",
    "    face_rec = classifier.detectMultiScale(imgs)\n",
    "    \n",
    "    for i in face_rec: #overlay rectangle on the face \n",
    "        (x, y, l, w) = [v * imgsize for v in i ]\n",
    "        face_img = im[y:y+w, x:x+l] # review needed\n",
    "        resized = cv2.resize(face_img, (150,150))\n",
    "        normalized = resized/255.0\n",
    "        reshaped = np.reshape(normalized, (1, 150, 150, 3))\n",
    "        reshaped = np.vstack([reshaped])\n",
    "        result = cnn.predict(reshaped)\n",
    "        label = np.argmax(result, axis=1)[0]#review needed\n",
    "        cv2.rectangle(im, (x,y), (x+l, y+w), color_dict[label],2)\n",
    "        cv2.rectangle(im, (x,y-40), (x+l,y), color_dict[label], -1)\n",
    "        cv2.putText(im, labels_dict[label], (x, y - 10), cv2.FONT_HERSHEY_SIMPLEX, 0.8,(255,255,255),2)\n",
    "        \n",
    "    cv2.imshow('LIVE', im)\n",
    "    key = cv2.waitKey(10)\n",
    "   \n",
    "    #stop loop by ESC\n",
    "    if key == 27: #ESC\n",
    "        break\n",
    "        \n",
    "#webcam.release()\n",
    "cv2.destroyAllWindows()\n",
    "        \n",
    "        \n",
    "    \n"
   ]
  },
  {
   "cell_type": "code",
   "execution_count": null,
   "id": "08dd0ac4",
   "metadata": {},
   "outputs": [],
   "source": []
  },
  {
   "cell_type": "code",
   "execution_count": null,
   "id": "fff7e530",
   "metadata": {},
   "outputs": [],
   "source": []
  }
 ],
 "metadata": {
  "kernelspec": {
   "display_name": "Python 3 (ipykernel)",
   "language": "python",
   "name": "python3"
  },
  "language_info": {
   "codemirror_mode": {
    "name": "ipython",
    "version": 3
   },
   "file_extension": ".py",
   "mimetype": "text/x-python",
   "name": "python",
   "nbconvert_exporter": "python",
   "pygments_lexer": "ipython3",
   "version": "3.7.11"
  }
 },
 "nbformat": 4,
 "nbformat_minor": 5
}
